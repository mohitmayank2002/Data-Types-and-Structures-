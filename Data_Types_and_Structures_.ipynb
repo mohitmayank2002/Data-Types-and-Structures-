{
  "nbformat": 4,
  "nbformat_minor": 0,
  "metadata": {
    "colab": {
      "provenance": []
    },
    "kernelspec": {
      "name": "python3",
      "display_name": "Python 3"
    },
    "language_info": {
      "name": "python"
    }
  },
  "cells": [
    {
      "cell_type": "markdown",
      "source": [
        "**Data Types and Structures Questions**\n",
        "\n",
        "---\n",
        "\n",
        "\n",
        "\n",
        "---\n",
        "\n"
      ],
      "metadata": {
        "id": "JMU5TzCR_fRq"
      }
    },
    {
      "cell_type": "markdown",
      "source": [
        "**Theoretical Questions**\n",
        "\n",
        "\n",
        "---\n",
        "\n"
      ],
      "metadata": {
        "id": "OuhVOdsvRYOe"
      }
    },
    {
      "cell_type": "markdown",
      "source": [
        "1. What are data structures, and why are they important?\n",
        "  > Data structures are specialized methods for organizing, storing, and managing data within a computer's memory or other storage systems. They are essentially containers that hold data in a specific arrangement, making it easier for computer programs to perform various operations on that data efficiently.\n",
        "\n",
        "    They are important :-\n",
        "\n",
        "     *  Performance Optimization: Choosing the right data structure can drastically improve the performance of a program, particularly when dealing with large datasets.\n",
        "\n",
        "     *  Memory Management: Data structures help in optimizing memory usage by organizing data in a way that minimizes wasted space and improves the efficiency of memory allocation.\n",
        "\n",
        "     *  Enhancing Problem-Solving Skills: Understanding different data structures and their strengths and weaknesses helps programmers to think logically and break down complex problems into manageable parts, leading to more efficient solutions.\n",
        "\n",
        "     *  Foundation for Algorithms: Data structures are inextricably linked with algorithms. Algorithms operate on data structures to solve problems efficiently.\n",
        "\n",
        "\n",
        "\n",
        "---\n",
        "\n",
        "\n"
      ],
      "metadata": {
        "id": "PVn9AIiG_vJI"
      }
    },
    {
      "cell_type": "markdown",
      "source": [
        "2. Explain the difference between mutable and immutable data types with examples.\n",
        "\n",
        "   > Mutable data types are those whose internal state or value can be changed after they are created. Immutable data types , cannot be altered once they are defined. Any operation that appears to modify an immutable object actually results in the creation of a new object with the desired changes.\n",
        "\n",
        "     Examples:\n",
        "\n",
        "     Mutable Data Types:\n",
        "\n",
        "      Lists : Elements can be added, removed, or modified directly within the existing list object.\n",
        "      \n",
        "\n",
        "```\n",
        "        my_list = [1, 2, 3]\n",
        "        my_list.append(4)\n",
        "        print(my_list)    \n",
        "        \n",
        "         # Output: [1, 2, 3, 4]\n",
        "```\n",
        "\n",
        "  Immutable Data Types:\n",
        "\n",
        "  Elements can not be added, removed, or modified directly within the existing list object. It will give an error.\n",
        "\n",
        "```\n",
        "tuple = (\"apple\" , \"mango\" , \"grapes\" , \"orange\" , \"milk\" )\n",
        "\n",
        "print(\"Before replacing the tuple.\",tuple)\n",
        "\n",
        "#In tuple if we want to change any thing we cant't it will give an error.\n",
        "\n",
        "tuple[4] = \"banana\"\n",
        "print(\"After replacing the tuple.\",tuple)\n",
        "```\n",
        "\n",
        "\n",
        "\n",
        "---\n",
        "\n",
        "\n"
      ],
      "metadata": {
        "id": "-EMOmTMwA94B"
      }
    },
    {
      "cell_type": "markdown",
      "source": [
        "3. What are the main differences between lists and tuples in Python?\n",
        "\n",
        "   > The main differences between lists and tuples in Python are:\n",
        "\n",
        "    * **Mutability:**\n",
        "\n",
        "    Lists are mutable, meaning their elements can be changed, added, or removed after creation. Tuples are immutable, meaning their contents cannot be modified once the tuple is created.\n",
        "\n",
        "    * **Syntax:**\n",
        "\n",
        "    Lists are defined using square brackets [ ],\n",
        "    \n",
        "    while tuples are defined using parentheses ( ).\n",
        "\n",
        "    * **Use Cases:**\n",
        "\n",
        "    Lists are suitable for collections where elements need frequent modification, such as managing dynamic data sets. Tuples are typically used for fixed collections of related data, such as representing coordinates, database records, or function arguments that should not be altered.\n",
        "\n",
        "    * **Length:**\n",
        "    \n",
        "    The length of a list can change dynamically as elements are added or removed. The length of a tuple is fixed at the time of its creation.\n",
        "\n",
        "\n",
        "\n",
        "---\n",
        "\n"
      ],
      "metadata": {
        "id": "iuEashp8ECGf"
      }
    },
    {
      "cell_type": "markdown",
      "source": [
        "4. Describe how dictionaries store data.\n",
        "\n",
        "  > Dictionaries store data as key-value pairs. This means that each piece of data  is associated with a unique identifier. This structure allows for efficient retrieval of values by referencing their corresponding keys.\n",
        "\n",
        "   Dictionaries store data by the folling way :\n",
        "\n",
        "   *  **Key-Value Association:**\n",
        "\n",
        "    Data is organized into pairs, where a unique key maps to a specific value\n",
        "\n",
        "   *  Keys Must Be Unique and Immutable.\n",
        "\n",
        "   * **Values Can Be Any Data Type:**\n",
        "\n",
        "    Values associated with keys can be of any data type, including other dictionaries, lists, or custom objects, providing flexibility in storing complex data structures.\n",
        "\n",
        "  * Dictionaries are commonly implemented using hash tables. When a key-value pair is added, the key is \"hashed\" to generate an index, which determines where the value is stored in memory.\n",
        "\n",
        "\n",
        "\n",
        "---\n",
        "\n"
      ],
      "metadata": {
        "id": "-Nv1rZ_YFHwn"
      }
    },
    {
      "cell_type": "markdown",
      "source": [
        "5. Why might you use a set instead of a list in Python?\n",
        "\n",
        "  >  A set in Python might be used instead of a list for the following reasons:\n",
        "\n",
        "  * Uniqueness of Elements:\n",
        "\n",
        "    Sets inherently store only unique elements. If a collection of data needs to guarantee that no duplicate values exist, using a set automatically handles this, whereas a list would require manual de-duplication.\n",
        "\n",
        "  * Fast Membership Testing:\n",
        "\n",
        "    Sets are optimized for checking whether an element is present within the collection.\n",
        "\n",
        "  * Mathematical Set Operations:\n",
        "\n",
        "    Sets provide built-in support for mathematical set operations such as union, intersection, difference, and symmetric difference.\n",
        "\n",
        "  * Order Insignificance:\n",
        "\n",
        "    If the order of elements in the collection is not important, a set is a suitable choice as it does not maintain any specific order.\n",
        "\n",
        "\n",
        "\n",
        "---\n",
        "\n"
      ],
      "metadata": {
        "id": "l3HNMcWOGbcI"
      }
    },
    {
      "cell_type": "markdown",
      "source": [
        "6. What is a string in Python, and how is it different from a list?\n",
        "\n",
        "   > In Python, a string is a sequence of characters, such as letters, numbers, and symbols, enclosed within single quotes ('...') or double quotes (\"...\"). Strings are used to represent textual data.\n",
        "\n",
        "   > A list in Python is an ordered, mutable collection of items, enclosed within square brackets ([...]) and separated by commas. Lists can contain items of different data types (e.g., integers, strings, other lists).\n",
        "\n",
        "\n",
        "\n",
        "---\n",
        "\n",
        "\n"
      ],
      "metadata": {
        "id": "c1bBXBgvHUaH"
      }
    },
    {
      "cell_type": "markdown",
      "source": [
        "7. How do tuples ensure data integrity in Python?\n",
        "  > Tuples in Python ensure data integrity primarily through their immutability. This characteristic means that once a tuple is created, its elements cannot be changed, added, or removed.\n",
        "\n",
        "\n",
        "\n",
        "---\n",
        "\n"
      ],
      "metadata": {
        "id": "bKtJyMMgIAo-"
      }
    },
    {
      "cell_type": "markdown",
      "source": [
        "8. What is a hash table, and how does it relate to dictionaries in Python?\n",
        "\n",
        "> A hash table is a data structure that stores key-value pairs, allowing for efficient retrieval, insertion, and deletion of data.\n",
        "\n",
        ">  It achieves this by using a hash function to map keys to indices in an underlying array, often referred to as buckets or slots. When a key-value pair is added, the hash function computes an index, and the pair is stored at that location. During lookup, the same hash function is applied to the key, providing the index where the corresponding value is expected to be found.\n",
        "\n",
        "\n",
        "\n",
        "---\n",
        "\n"
      ],
      "metadata": {
        "id": "VqE7ZqtvIQKn"
      }
    },
    {
      "cell_type": "markdown",
      "source": [
        "\n",
        "9. Can lists contain different data types in Python?\n",
        "\n",
        " > Yes, lists in Python can contain different data types. This is a key feature of Python lists, distinguishing them from arrays in many other programming languages, which typically require all elements to be of the same data type.\n",
        "\n",
        "    A single Python list can hold a mixture of integers, floats, strings, booleans, and even other complex data structures like other lists, tuples, dictionaries, or custom objects.\n",
        "\n",
        "\n",
        "\n",
        "```\n",
        "my_mixed_list = [1, \"hello\", 3.14, True, [5, 6], {\"key\": \"value\"}]\n",
        "print(my_mixed_list)\n",
        "```\n",
        "\n",
        "\n",
        "---\n",
        "\n",
        "\n"
      ],
      "metadata": {
        "id": "nX13J9m_IsxQ"
      }
    },
    {
      "cell_type": "markdown",
      "source": [
        "\n",
        "10. Explain why strings are immutable in Python.\n",
        "\n",
        "> Strings in Python are \"immutable\" which means they can not be changed after they are created. Some other immutable data types are integers, float, boolean, etc.\n",
        "\n",
        " The immutability of Python string is very useful as it helps in hashing, performance optimization, safety, ease of use, etc.\n",
        "\n",
        " The article will explore the differences between mutable and immutable objects, highlighting the advantages of using immutable objects. It will also compare immutability with mutability, discussing various methods to handle immutability and achieve desired outcomes.\n",
        "\n",
        "\n",
        "\n",
        "---\n",
        "\n"
      ],
      "metadata": {
        "id": "fhxVpNzMJG2v"
      }
    },
    {
      "cell_type": "markdown",
      "source": [
        "11. What advantages do dictionaries offer over lists for certain tasks?\n",
        "\n",
        " >List\t                                         \n",
        " * It can contain duplicate elements.\n",
        " * Slicing can be done.\t             \n",
        " * It is preferred when the contents are not fixed.\n",
        "\n",
        " >Dictionary\n",
        " *  It cannot contain duplicate keys.\n",
        " * \tSlicing cannot be done.\n",
        " * \tIt is preferred when working with large amounts of data.\n",
        "\n",
        "\n",
        "\n",
        "---\n",
        "\n"
      ],
      "metadata": {
        "id": "P94f-diLJshI"
      }
    },
    {
      "cell_type": "markdown",
      "source": [
        "12. Describe a scenario where using a tuple would be preferable over a list.\n",
        "\n",
        "  > Consider a system that stores geographic coordinates, such as the latitude and longitude of a specific landmark. These coordinates are inherently fixed and should not change during the program's execution.\n",
        "\n",
        "\n",
        "\n",
        "```\n",
        "# Using a tuple for immutable coordinates\n",
        "landmark_coordinates = (34.0522, -118.2437)\n",
        "```\n",
        "   In this scenario, a tuple is preferable because:\n",
        "\n",
        "* **Immutability:**\n",
        "\n",
        "    The coordinates are not expected to change, and using a tuple ensures that accidental modifications are prevented, maintaining data integrity.\n",
        "\n",
        "* **Readability and Intent:**\n",
        "\n",
        "    A tuple clearly communicates that landmark_coordinates represents a fixed, unchangeable set of values.\n",
        "\n",
        "* **Potential for Dictionary Keys:**\n",
        "\n",
        "    If there was a need to store a dictionary mapping landmark names to their coordinates, the immutable tuple could be used directly as a dictionary key. A list, being mutable, cannot be used as a dictionary key.\n",
        "\n",
        "\n",
        "\n",
        "\n",
        "\n",
        "---\n",
        "\n",
        "\n",
        "\n",
        "\n"
      ],
      "metadata": {
        "id": "0eQuHsNQK-QB"
      }
    },
    {
      "cell_type": "markdown",
      "source": [
        "13. How do sets handle duplicate values in Python?\n",
        "  >Python sets are inherently designed to store only unique elements. This means that sets automatically handle duplicate values by preventing their inclusion.\n",
        "\n",
        "  When an attempt is made to add a duplicate element to a set, the set simply ignores the addition because the element is already present. It does not raise an error or store multiple instances of the same value. This characteristic makes sets a highly efficient tool for tasks such as removing duplicates from a list or checking for the presence of an element within a collection.\n",
        "\n",
        "  For example:\n",
        "\n",
        "\n",
        "```\n",
        "my_set = {1, 2, 3, 2, 4, 1}\n",
        "print(my_set)\n",
        "```\n",
        "  Output:\n",
        "\n",
        "{1, 2, 3, 4}\n",
        "\n",
        "\n",
        "As demonstrated, the duplicate values 1 and 2 are not included multiple times in the resulting set.\n",
        "\n",
        "\n",
        "\n",
        "---\n",
        "\n",
        "\n",
        "\n",
        "\n"
      ],
      "metadata": {
        "id": "batFhb59MBUu"
      }
    },
    {
      "cell_type": "markdown",
      "source": [
        "14. How does the \"in\" keyword work differently for lists and dictionaries?\n",
        "\n",
        "  >The \"in\" keyword in Python functions as a membership operator, checking for the presence of a specific element within a collection. While its purpose is consistent for both lists and dictionaries, the way it determines membership differs based on the data structure's organization:\n",
        "\n",
        "   **For Lists:**\n",
        "\n",
        "   * When used with a list, the \"in\" keyword checks for the presence of a value directly within the list's elements.\n",
        "  \n",
        "  * It performs a linear search, iterating through each element of the list until a match is found or the end of the list is reached.\n",
        "\n",
        "    Example:\n",
        "\n",
        "\n",
        "\n",
        "```\n",
        "my_list = [1, 2, 3, 4]\n",
        "    print(2 in my_list)  # True\n",
        "    print(5 in my_list)  # False\n",
        "```\n",
        "  \n",
        "  **For Dictionaries:**\n",
        "\n",
        "  *  When used with a dictionary, the \"in\" keyword checks for the presence of a key within the dictionary's keys. It does not directly check for values.\n",
        "\n",
        "  *  Dictionaries are implemented using hash tables, allowing for very efficient lookups. The \"in\" operator leverages this by hashing the key being searched for and checking its corresponding location in the hash table.\n",
        "   \n",
        "  Example:\n",
        "\n",
        "\n",
        "\n",
        "```\n",
        "    my_dict = {\"name\": \"Alice\", \"age\": 30}\n",
        "    print(\"name\" in my_dict)  # True\n",
        "    print(\"city\" in my_dict)  # False\n",
        "    print(\"Alice\" in my_dict) # False (checks for key, not value)\n",
        "```\n",
        "\n",
        "  > The \"in\" keyword for lists checks for the presence of a value among its elements, while for dictionaries, it checks for the presence of a key within its key-value pairs.\n",
        "\n",
        "\n",
        "\n",
        "---\n",
        "\n"
      ],
      "metadata": {
        "id": "-9KsbIcFM0BH"
      }
    },
    {
      "cell_type": "markdown",
      "source": [
        "15. Can you modify the elements of a tuple? Explain why or why not.\n",
        "\n",
        "  >No, the elements of a tuple cannot be modified after the tuple has been created. Tuples are immutable data structures in Python, meaning their contents cannot be changed once defined.\n",
        "\n",
        "   Explanation:\n",
        "\n",
        "* **Immutability:**\n",
        "This property means that once a tuple is assigned, its elements are fixed. You cannot add, remove, or change individual elements within an existing tuple.\n",
        "\n",
        "* **TypeError:**\n",
        "Attempting to modify a tuple element using item assignment\n",
        "\n",
        "```\n",
        " my_tuple[0] = new_value\n",
        "```\n",
        "\n",
        " will result in a TypeError, indicating that tuples do not support item assignment.\n",
        "\n",
        "\n",
        "\n",
        "---\n",
        "\n"
      ],
      "metadata": {
        "id": "cdN2npSSN27-"
      }
    },
    {
      "cell_type": "markdown",
      "source": [
        "16. What is a nested dictionary, and give an example of its use case?\n",
        "\n",
        "  > A nested dictionary, in Python, is a dictionary that contains other dictionaries as its values, allowing for hierarchical data storage.\n",
        "\n",
        "\n",
        "\n",
        "```\n",
        "students = {\n",
        "    \"student1\": {\n",
        "        \"name\": \"Alice\",\n",
        "        \"age\": 20,\n",
        "        \"address\": {\n",
        "            \"street\": \"123 Main St\",\n",
        "            \"city\": \"Anytown\"\n",
        "        }\n",
        "    },\n",
        "    \"student2\": {\n",
        "        \"name\": \"Bob\",\n",
        "        \"age\": 22,\n",
        "        \"address\": {\n",
        "            \"street\": \"456 Oak Ave\",\n",
        "            \"city\": \"Othertown\"\n",
        "        }\n",
        "    }\n",
        "}\n",
        "```\n",
        "   > In this example, students is the main dictionary. Each key, like \"student1\" and \"student2\", maps to another dictionary containing that student's information. The \"address\" key within each student's dictionary further maps to another dictionary holding address details. This nested structure allows you to easily access and manipulate related information about each student. For example, to access Alice's city, you would use students[\"student1\"][\"address\"][\"city\"].\n",
        "\n",
        "\n",
        "\n",
        "---\n",
        "\n",
        "\n"
      ],
      "metadata": {
        "id": "-yDBRVThOX23"
      }
    },
    {
      "cell_type": "markdown",
      "source": [
        "17. Describe the time complexity of accessing elements in a dictionary.\n",
        "\n",
        " >  Python dictionaries provide a fast and efficient way to store and retrieve data using key value pair so understanding the time complexities of dictionary operations is very important for optimizing performance in our programs.\n",
        "\n",
        "   In this article, we will explore the time complexities of various dictionary operations.\n",
        "\n",
        "   Accessing Elements by Key (O(1))\n",
        "   \n",
        "   The time complexity of retrieving a value by its key in a dictionary is O(1). This is because dictionaries use a hash table internally which allows constant time lookup.\n",
        "\n",
        "\n",
        "\n",
        "```\n",
        "# Create a dictionary\n",
        "dict = {'a': 1, 'b': 2, 'c': 3}\n",
        "\n",
        "# Access value by key\n",
        "val = dict['b']\n",
        "print(val)\n",
        "```\n",
        "\n",
        "\n",
        "\n",
        "---\n",
        "\n"
      ],
      "metadata": {
        "id": "NP8aErQfO_l5"
      }
    },
    {
      "cell_type": "markdown",
      "source": [
        "18. In what situations are lists preferred over dictionaries?\n",
        "  \n",
        "   >If we need an ordered collection, like a sequence of user actions, lists are your go-to. On the other hand, when you need quick look-ups, like mapping usernames to user data, dictionaries are invaluable.\n",
        "\n",
        "\n",
        "\n",
        "---\n",
        "\n"
      ],
      "metadata": {
        "id": "S7T2_uJlPmUd"
      }
    },
    {
      "cell_type": "markdown",
      "source": [
        "19. Why are dictionaries considered unordered, and how does that affect data retrieval?\n",
        "\n",
        " * Dictionaries are considered unordered because they don't guarantee that the order in which items are inserted will be preserved when iterating through them.\n",
        "\n",
        "  * This means the order in which you see the key-value pairs when printing or accessing a dictionary might not be the same as the order they were added.\n",
        "  \n",
        "  * This lack of guaranteed order does not affect data retrieval using keys, as dictionaries are optimized for fast lookups based on keys.  \n",
        "\n",
        "\n",
        "\n",
        "---\n",
        "\n",
        "\n",
        "\n"
      ],
      "metadata": {
        "id": "RX1jDGiYP2zM"
      }
    },
    {
      "cell_type": "markdown",
      "source": [
        "\n",
        "20. Explain the difference between a list and a dictionary in terms of data retrieval.\n",
        "\n",
        "> The  difference between a list and a dictionary, in terms of data retrieval, lies in the method of accessing elements:\n",
        "\n",
        ">   **List:**\n",
        "\n",
        ">  Data retrieval in a list relies on positional indexing. Elements are stored in a specific, ordered sequence, and each element is assigned an integer index starting from 0. To retrieve an element, its numerical index must be known. This makes lists efficient for ordered operations and when the position of the data is the primary means of identification.\n",
        "\n",
        "\n",
        "\n",
        "```\n",
        "    my_list = [\"apple\", \"banana\", \"cherry\"]\n",
        "    # Retrieving \"banana\" by its index (1)\n",
        "    item = my_list[1]\n",
        "```\n",
        "\n",
        "> **Dictionary:**\n",
        "\n",
        "> Data retrieval in a dictionary relies on key-based lookup. Elements are stored as key-value pairs, where each unique key maps to a specific value. To retrieve a value, its corresponding key must be known. This makes dictionaries highly efficient for fast lookups and when data needs to be associated with descriptive labels rather than numerical positions.\n",
        "\n",
        "\n",
        "\n",
        "```\n",
        "    my_dict = {\"fruit1\": \"apple\", \"fruit2\": \"banana\", \"fruit3\": \"cherry\"}\n",
        "    # Retrieving \"banana\" by its key (\"fruit2\")\n",
        "    item = my_dict[\"fruit2\"]\n",
        "```\n",
        "\n",
        "> lists offer ordered access by numerical position, while dictionaries offer unordered access by unique, descriptive keys. This distinction dictates their suitability for different data storage and retrieval scenarios.\n",
        "\n",
        "\n",
        "\n",
        "---\n",
        "\n",
        "\n",
        "\n",
        "---\n",
        "\n",
        "\n"
      ],
      "metadata": {
        "id": "bwCAMNzmQe8M"
      }
    },
    {
      "cell_type": "markdown",
      "source": [
        "**Practical Questions**\n",
        "\n",
        "\n",
        "---\n",
        "\n"
      ],
      "metadata": {
        "id": "D-d8-E0hRxNm"
      }
    },
    {
      "cell_type": "code",
      "source": [
        "# 1. Write a code to create a string with your name and print it.\n",
        "\n",
        "name = \"Mohit\"\n",
        "print(name)"
      ],
      "metadata": {
        "colab": {
          "base_uri": "https://localhost:8080/"
        },
        "id": "Vg58w_EOTFrV",
        "outputId": "a6aaaf19-d59f-49c6-dabd-8d9b9a32674d"
      },
      "execution_count": null,
      "outputs": [
        {
          "output_type": "stream",
          "name": "stdout",
          "text": [
            "Mohit\n"
          ]
        }
      ]
    },
    {
      "cell_type": "code",
      "source": [
        "# 2. Write a code to find the length of the string \"Hello World\".\n",
        "\n",
        "string = \"Hello World\"\n",
        "print(len(string))"
      ],
      "metadata": {
        "colab": {
          "base_uri": "https://localhost:8080/"
        },
        "id": "RkRlCYUxSayk",
        "outputId": "9a456fa6-77ea-48b2-a8ab-73f766e880d5"
      },
      "execution_count": null,
      "outputs": [
        {
          "output_type": "stream",
          "name": "stdout",
          "text": [
            "11\n"
          ]
        }
      ]
    },
    {
      "cell_type": "code",
      "source": [
        "# 3. Write a code to slice the first 3 characters from the string \"Python Programming\".\n",
        "\n",
        "string = \"Python Programming\"\n",
        "print(string[:3])"
      ],
      "metadata": {
        "colab": {
          "base_uri": "https://localhost:8080/"
        },
        "id": "D5tbszqsSfTE",
        "outputId": "296c3ddc-58e3-4a1f-a78c-596152b74a0a"
      },
      "execution_count": null,
      "outputs": [
        {
          "output_type": "stream",
          "name": "stdout",
          "text": [
            "Pyt\n"
          ]
        }
      ]
    },
    {
      "cell_type": "code",
      "source": [
        "#4. Write a code to convert the string \"hello\" to uppercase.\n",
        "\n",
        "string = \"hello\"\n",
        "print(string.upper())\n"
      ],
      "metadata": {
        "colab": {
          "base_uri": "https://localhost:8080/"
        },
        "id": "IkJtIEoDSmal",
        "outputId": "70e0f3d8-8fcc-4566-dbc9-10c3e2f8d31f"
      },
      "execution_count": null,
      "outputs": [
        {
          "output_type": "stream",
          "name": "stdout",
          "text": [
            "HELLO\n"
          ]
        }
      ]
    },
    {
      "cell_type": "code",
      "source": [
        "# 5. Write a code to replace the word \"apple\" with \"orange\" in the string \"I like apple\".\n",
        "\n",
        "string = \"I like apple\"\n",
        "print(string.replace(\"apple\", \"orange\"))\n"
      ],
      "metadata": {
        "colab": {
          "base_uri": "https://localhost:8080/"
        },
        "id": "tjc_m3HOUOEG",
        "outputId": "cd9151e3-787c-4498-856b-f5c27ebd0f86"
      },
      "execution_count": null,
      "outputs": [
        {
          "output_type": "stream",
          "name": "stdout",
          "text": [
            "I like orange\n"
          ]
        }
      ]
    },
    {
      "cell_type": "code",
      "source": [
        "# 6. Write a code to create a list with numbers 1 to 5 and print it.\n",
        "\n",
        "list = [1, 2, 3, 4, 5]\n",
        "print(list)"
      ],
      "metadata": {
        "colab": {
          "base_uri": "https://localhost:8080/"
        },
        "id": "ZdTrlfqdUhy0",
        "outputId": "87f46022-f99b-48dc-f16c-036b9180419d"
      },
      "execution_count": null,
      "outputs": [
        {
          "output_type": "stream",
          "name": "stdout",
          "text": [
            "[1, 2, 3, 4, 5]\n"
          ]
        }
      ]
    },
    {
      "cell_type": "code",
      "source": [
        "#7. Write a code to append the number 10 to the list [1, 2, 3, 4].\n",
        "\n",
        "list = [1, 2, 3, 4]\n",
        "list.append(10)\n",
        "print(list)"
      ],
      "metadata": {
        "colab": {
          "base_uri": "https://localhost:8080/"
        },
        "id": "is65ey4VUtlE",
        "outputId": "59e4c451-dc67-4c66-b334-0400105c5faa"
      },
      "execution_count": null,
      "outputs": [
        {
          "output_type": "stream",
          "name": "stdout",
          "text": [
            "[1, 2, 3, 4, 10]\n"
          ]
        }
      ]
    },
    {
      "cell_type": "code",
      "source": [
        "# 8. Write a code to remove the number 3 from the list [1, 2, 3, 4, 5].\n",
        "\n",
        "list = [1, 2, 3, 4, 5]\n",
        "list.remove(3)\n",
        "print(list)"
      ],
      "metadata": {
        "colab": {
          "base_uri": "https://localhost:8080/"
        },
        "id": "0pRiUB0zU12t",
        "outputId": "e0262ede-e113-4379-ed7d-a7273cf60f48"
      },
      "execution_count": null,
      "outputs": [
        {
          "output_type": "stream",
          "name": "stdout",
          "text": [
            "[1, 2, 4, 5]\n"
          ]
        }
      ]
    },
    {
      "cell_type": "code",
      "source": [
        "# 9. Write a code to access the second element in the list ['a', 'b', 'c', 'd'].\n",
        "\n",
        "list = ['a', 'b', 'c', 'd']\n",
        "print(list[1])"
      ],
      "metadata": {
        "colab": {
          "base_uri": "https://localhost:8080/"
        },
        "id": "UmnxDnNiVAw6",
        "outputId": "a744f6e8-259f-4988-aa4d-d81e5af39579"
      },
      "execution_count": null,
      "outputs": [
        {
          "output_type": "stream",
          "name": "stdout",
          "text": [
            "b\n"
          ]
        }
      ]
    },
    {
      "cell_type": "code",
      "source": [
        "# 10. Write a code to reverse the list [10, 20, 30, 40, 50]\n",
        "\n",
        "list = [10, 20, 30, 40, 50]\n",
        "print(list[::-1])"
      ],
      "metadata": {
        "colab": {
          "base_uri": "https://localhost:8080/"
        },
        "id": "OtSCo23RVQtk",
        "outputId": "aeb3645b-fb85-408c-c1ea-d24e3e0f9525"
      },
      "execution_count": null,
      "outputs": [
        {
          "output_type": "stream",
          "name": "stdout",
          "text": [
            "[50, 40, 30, 20, 10]\n"
          ]
        }
      ]
    },
    {
      "cell_type": "code",
      "source": [
        "# 11. Write a code to create a tuple with the elements 100, 200, 300 and print it.\n",
        "\n",
        "tuple = (100, 200, 300)\n",
        "print(tuple)"
      ],
      "metadata": {
        "colab": {
          "base_uri": "https://localhost:8080/"
        },
        "id": "thfUqGlDVfkt",
        "outputId": "c4b3c5a6-b199-4788-9e9f-31ab7ef26e78"
      },
      "execution_count": null,
      "outputs": [
        {
          "output_type": "stream",
          "name": "stdout",
          "text": [
            "(100, 200, 300)\n"
          ]
        }
      ]
    },
    {
      "cell_type": "code",
      "source": [
        "# 12. Write a code to access the second-to-last element of the tuple ('red', 'green', 'blue', 'yellow).\n",
        "\n",
        "tuple = ('red', 'green', 'blue', 'yellow')\n",
        "print(tuple[-2])"
      ],
      "metadata": {
        "colab": {
          "base_uri": "https://localhost:8080/"
        },
        "id": "nbxDMUGfVq0G",
        "outputId": "066f7d1b-0aa4-40fe-b456-2307b710c602"
      },
      "execution_count": null,
      "outputs": [
        {
          "output_type": "stream",
          "name": "stdout",
          "text": [
            "blue\n"
          ]
        }
      ]
    },
    {
      "cell_type": "code",
      "source": [
        "# 13. Write a code to find the minimum number in the tuple (10, 20, 5, 15).\n",
        "\n",
        "tuple = (10, 20, 5, 15)\n",
        "print(min(tuple))"
      ],
      "metadata": {
        "colab": {
          "base_uri": "https://localhost:8080/"
        },
        "id": "BPtaJAjaVzbV",
        "outputId": "f9bf33a7-ff05-45ac-8d1e-7e6a526f0710"
      },
      "execution_count": null,
      "outputs": [
        {
          "output_type": "stream",
          "name": "stdout",
          "text": [
            "5\n"
          ]
        }
      ]
    },
    {
      "cell_type": "code",
      "source": [
        "# 14. Write a code to find the index of the element \"cat\" in the tuple ('dog', 'cat', 'rabbit').\n",
        "\n",
        "tuple = ('dog', 'cat', 'rabbit')\n",
        "print(tuple.index(\"cat\"))"
      ],
      "metadata": {
        "colab": {
          "base_uri": "https://localhost:8080/"
        },
        "id": "LQniQj1LV-g7",
        "outputId": "85cb7815-23e1-40ca-fdbc-a8aad46ef530"
      },
      "execution_count": null,
      "outputs": [
        {
          "output_type": "stream",
          "name": "stdout",
          "text": [
            "1\n"
          ]
        }
      ]
    },
    {
      "cell_type": "code",
      "source": [
        "# 15. Write a code to create a tuple containing three different fruits and check if \"kiwi\" is in it.\n",
        "\n",
        "tuple = (\"apple\", \"banana\", \"cherry\")\n",
        "print(\"kiwi\" in tuple)"
      ],
      "metadata": {
        "colab": {
          "base_uri": "https://localhost:8080/"
        },
        "id": "Lv-CuPz0WH57",
        "outputId": "7f54b300-5dca-4ed3-da6d-6fa4ea7b8648"
      },
      "execution_count": null,
      "outputs": [
        {
          "output_type": "stream",
          "name": "stdout",
          "text": [
            "False\n"
          ]
        }
      ]
    },
    {
      "cell_type": "code",
      "source": [
        "# 16. Write a code to create a set with the elements 'a', 'b', 'c' and print it.\n",
        "\n",
        "my_set = {'a', 'b', 'c'}\n",
        "print(my_set)\n"
      ],
      "metadata": {
        "colab": {
          "base_uri": "https://localhost:8080/"
        },
        "id": "lAtFxwREsykD",
        "outputId": "1c807868-7918-48fb-f569-f6c0a784b081"
      },
      "execution_count": 1,
      "outputs": [
        {
          "output_type": "stream",
          "name": "stdout",
          "text": [
            "{'c', 'b', 'a'}\n"
          ]
        }
      ]
    },
    {
      "cell_type": "code",
      "source": [
        "# 17. Write a code to clear all elements from the set {1, 2, 3, 4, 5}.\n",
        "\n",
        "my_set = {1, 2, 3, 4, 5}\n",
        "print(\"Original set:\", my_set)\n",
        "\n",
        "my_set.clear()\n",
        "\n",
        "print(\"Set after clearing:\", my_set)"
      ],
      "metadata": {
        "colab": {
          "base_uri": "https://localhost:8080/"
        },
        "id": "WR9xySkztSVX",
        "outputId": "c3f3ca5e-4287-4fe0-e61e-7773c47038e6"
      },
      "execution_count": 2,
      "outputs": [
        {
          "output_type": "stream",
          "name": "stdout",
          "text": [
            "Original set: {1, 2, 3, 4, 5}\n",
            "Set after clearing: set()\n"
          ]
        }
      ]
    },
    {
      "cell_type": "code",
      "source": [
        "# 18. Write a code to remove the element 4 from the set {1, 2, 3, 4}.\n",
        "\n",
        "set = {1,2,3,4}\n",
        "set.remove(4)\n",
        "print(set)"
      ],
      "metadata": {
        "colab": {
          "base_uri": "https://localhost:8080/"
        },
        "id": "NYGaSixJtqtG",
        "outputId": "cff0a8fc-d2f3-49c0-8388-8e258b117762"
      },
      "execution_count": 3,
      "outputs": [
        {
          "output_type": "stream",
          "name": "stdout",
          "text": [
            "{1, 2, 3}\n"
          ]
        }
      ]
    },
    {
      "cell_type": "code",
      "source": [
        "# 19. Write a code to find the union of two sets {1, 2, 3} and {3, 4, 5}.\n",
        "\n",
        "set1 = {1, 2, 3}\n",
        "set2 = {3, 4, 5}\n",
        "print(set1.union(set2))"
      ],
      "metadata": {
        "colab": {
          "base_uri": "https://localhost:8080/"
        },
        "id": "IoHxwIHzuK33",
        "outputId": "83cbe49e-7058-4dc3-9a39-ea4d70de1ace"
      },
      "execution_count": 4,
      "outputs": [
        {
          "output_type": "stream",
          "name": "stdout",
          "text": [
            "{1, 2, 3, 4, 5}\n"
          ]
        }
      ]
    },
    {
      "cell_type": "code",
      "source": [
        "# 20. Write a code to find the intersection of two sets {1, 2, 3} and {2, 3, 4}.\n",
        "\n",
        "set1 = {1,2,3}\n",
        "set2 = {2,3,4}\n",
        "print(set1.intersection(set2))"
      ],
      "metadata": {
        "colab": {
          "base_uri": "https://localhost:8080/"
        },
        "id": "aAJCjsT6uaNT",
        "outputId": "35778836-8537-4d6c-9bfe-94852b38d0db"
      },
      "execution_count": 5,
      "outputs": [
        {
          "output_type": "stream",
          "name": "stdout",
          "text": [
            "{2, 3}\n"
          ]
        }
      ]
    },
    {
      "cell_type": "code",
      "source": [
        "# 21. Write a code to create a dictionary with the keys \"name\", \"age\", and \"city\", and print it.\n",
        "\n",
        "my_dict = {\n",
        "    \"name\": \"Mohit\",\n",
        "    \"age\": 23,\n",
        "    \"city\": \"Jharkhand\"\n",
        "}\n",
        "print(my_dict)"
      ],
      "metadata": {
        "colab": {
          "base_uri": "https://localhost:8080/"
        },
        "id": "MFZ6y7pqumC9",
        "outputId": "70dce11f-8ba7-42b5-81c1-4a45a57cb1f2"
      },
      "execution_count": 6,
      "outputs": [
        {
          "output_type": "stream",
          "name": "stdout",
          "text": [
            "{'name': 'Mohit', 'age': 23, 'city': 'Jharkhand'}\n"
          ]
        }
      ]
    },
    {
      "cell_type": "code",
      "source": [
        "# 22. Write a code to add a new key-value pair \"country\": \"USA\" to the dictionary {'name: 'John', 'age': 25}.\n",
        "\n",
        "my_dict = {'name': 'John', 'age': 25}\n",
        "my_dict[\"country\"] = \"USA\"\n",
        "print(my_dict)"
      ],
      "metadata": {
        "colab": {
          "base_uri": "https://localhost:8080/"
        },
        "id": "BNOgYxpIuzaz",
        "outputId": "597faf00-0d87-42ee-de9f-43b9e81ad75e"
      },
      "execution_count": 7,
      "outputs": [
        {
          "output_type": "stream",
          "name": "stdout",
          "text": [
            "{'name': 'John', 'age': 25, 'country': 'USA'}\n"
          ]
        }
      ]
    },
    {
      "cell_type": "code",
      "source": [
        "# 23. Write a code to access the value associated with the key \"name\" in the dictionary {'name': 'Alice', 'age': 30}.\n",
        "\n",
        "my_dict = {'name': 'Alice', 'age': 30}\n",
        "print(my_dict[\"name\"])"
      ],
      "metadata": {
        "colab": {
          "base_uri": "https://localhost:8080/"
        },
        "id": "7FME7nBWu-86",
        "outputId": "033cda72-9843-48ef-dee4-5e75d0f53a07"
      },
      "execution_count": 8,
      "outputs": [
        {
          "output_type": "stream",
          "name": "stdout",
          "text": [
            "Alice\n"
          ]
        }
      ]
    },
    {
      "cell_type": "code",
      "source": [
        "# 24. Write a code to remove the key \"age\" from the dictionary {'name': 'Bob', 'age': 22, 'city': 'New York'}.\n",
        "\n",
        "my_dict = {'name': 'Bob', 'age': 22, 'city': 'New York'}\n",
        "del my_dict[\"age\"]\n",
        "print(my_dict)\n"
      ],
      "metadata": {
        "colab": {
          "base_uri": "https://localhost:8080/"
        },
        "id": "byvXjcEFvLLM",
        "outputId": "e9681962-9dd0-44f1-9f4e-246e6513aaf2"
      },
      "execution_count": 9,
      "outputs": [
        {
          "output_type": "stream",
          "name": "stdout",
          "text": [
            "{'name': 'Bob', 'city': 'New York'}\n"
          ]
        }
      ]
    },
    {
      "cell_type": "code",
      "source": [
        "# 25. Write a code to check if the key \"city\" exists in the dictionary {'name': 'Alice', 'city': 'Paris'}.\n",
        "\n",
        "\n",
        "my_dict = {'name': 'Alice', 'city': 'Paris'}\n",
        "print(\"city\" in my_dict)"
      ],
      "metadata": {
        "colab": {
          "base_uri": "https://localhost:8080/"
        },
        "id": "aF5sAhyLvapL",
        "outputId": "b2ae945a-57b0-4c87-ffb3-88edb365af4a"
      },
      "execution_count": 10,
      "outputs": [
        {
          "output_type": "stream",
          "name": "stdout",
          "text": [
            "True\n"
          ]
        }
      ]
    },
    {
      "cell_type": "code",
      "source": [
        "# 26. Write a code to create a list, a tuple, and a dictionary, and print them all.\n",
        "\n",
        "my_list = [1, 2, 3, 4, 5]\n",
        "my_tuple = (10, 20, 30, 40, 50)\n",
        "my_dict = {\n",
        "    \"name\": \"Mohit\",\n",
        "    \"age\": 23,\n",
        "    \"city\": \"Jharkhand\"\n",
        "}\n",
        "print(my_dict)\n",
        "print(my_list)\n",
        "print(my_tuple)"
      ],
      "metadata": {
        "colab": {
          "base_uri": "https://localhost:8080/"
        },
        "id": "E5uOMDMrvkwb",
        "outputId": "1f9a8962-ed98-46b7-c491-4f87c47d0508"
      },
      "execution_count": 11,
      "outputs": [
        {
          "output_type": "stream",
          "name": "stdout",
          "text": [
            "{'name': 'Mohit', 'age': 23, 'city': 'Jharkhand'}\n",
            "[1, 2, 3, 4, 5]\n",
            "(10, 20, 30, 40, 50)\n"
          ]
        }
      ]
    },
    {
      "cell_type": "code",
      "source": [
        "# 27. Write a code to create a list of 5 random numbers between 1 and 100, sort it in ascending order, and print the result.(replaced)\n",
        "\n",
        "my_list = [50,20,26,3,88]\n",
        "my_list.sort()\n",
        "print(my_list)"
      ],
      "metadata": {
        "colab": {
          "base_uri": "https://localhost:8080/"
        },
        "id": "7MHdCf7Uv4bz",
        "outputId": "1b6c6aa6-912a-4d5b-8e49-110661228c39"
      },
      "execution_count": 13,
      "outputs": [
        {
          "output_type": "stream",
          "name": "stdout",
          "text": [
            "[3, 20, 26, 50, 88]\n"
          ]
        }
      ]
    },
    {
      "cell_type": "code",
      "source": [
        "# 28. Write a code to create a list with strings and print the element at the third index.\n",
        "\n",
        "my_list = [\"apple\", \"banana\", \"cherry\", \"date\", \"elderberry\"]\n",
        "print(my_list[2])"
      ],
      "metadata": {
        "colab": {
          "base_uri": "https://localhost:8080/"
        },
        "id": "bxYuetBnwQ3y",
        "outputId": "0cbffc11-731f-4b89-8723-87a99e3c5c93"
      },
      "execution_count": 14,
      "outputs": [
        {
          "output_type": "stream",
          "name": "stdout",
          "text": [
            "cherry\n"
          ]
        }
      ]
    },
    {
      "cell_type": "code",
      "source": [
        "# 29. Write a code to combine two dictionaries into one and print the result.\n",
        "\n",
        "my_dict1 = {'a': 1, 'b': 2}\n",
        "my_dict2 = {'c': 3, 'd': 4}\n",
        "my_dict1.update(my_dict2)\n",
        "print(my_dict1)"
      ],
      "metadata": {
        "colab": {
          "base_uri": "https://localhost:8080/"
        },
        "id": "BfZaHC9awcsT",
        "outputId": "dc46cb78-1644-4e98-d9bc-3b95ecb2b486"
      },
      "execution_count": 15,
      "outputs": [
        {
          "output_type": "stream",
          "name": "stdout",
          "text": [
            "{'a': 1, 'b': 2, 'c': 3, 'd': 4}\n"
          ]
        }
      ]
    },
    {
      "cell_type": "code",
      "source": [
        "# 30. Write a code to convert a list of strings into a set.\n",
        "\n",
        "list = [\"apple\",\"mango\",\"banana\",\"orange\"]\n",
        "set = set(list)\n",
        "print(set)"
      ],
      "metadata": {
        "id": "WsyTyIdu0Hst"
      },
      "execution_count": null,
      "outputs": []
    }
  ]
}